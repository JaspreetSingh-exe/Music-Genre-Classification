{
 "cells": [
  {
   "cell_type": "markdown",
   "metadata": {},
   "source": [
    "Import Libraries"
   ]
  },
  {
   "cell_type": "code",
   "execution_count": 10,
   "metadata": {},
   "outputs": [],
   "source": [
    "import os\n",
    "import librosa\n",
    "import numpy as np\n",
    "import pandas as pd\n",
    "from tqdm import tqdm"
   ]
  },
  {
   "cell_type": "code",
   "execution_count": 11,
   "metadata": {},
   "outputs": [],
   "source": [
    "data_path = \"/Users/js/Desktop/Music Genre Classification/Data/genres_original\" \n",
    "output_csv = \"/Users/js/Desktop/Music Genre Classification/Data/music_features.csv\""
   ]
  },
  {
   "cell_type": "markdown",
   "metadata": {},
   "source": [
    "Functions"
   ]
  },
  {
   "cell_type": "markdown",
   "metadata": {},
   "source": [
    "- Load the audio files"
   ]
  },
  {
   "cell_type": "code",
   "execution_count": 12,
   "metadata": {},
   "outputs": [],
   "source": [
    "def load_audio(file_path, duration=30):\n",
    "    \"\"\"Loads an audio file and returns the audio time series and sampling rate.\"\"\"\n",
    "    try:\n",
    "        y, sr = librosa.load(file_path, duration=duration)\n",
    "        return y, sr\n",
    "    except Exception as e:\n",
    "        print(f\"Error loading {file_path}: {e}\")\n",
    "        return None, None"
   ]
  },
  {
   "cell_type": "markdown",
   "metadata": {},
   "source": [
    "- Extract the features"
   ]
  },
  {
   "cell_type": "code",
   "execution_count": 13,
   "metadata": {},
   "outputs": [],
   "source": [
    "def extract_features(y, sr):\n",
    "    \"\"\"Extracts multiple audio features from an audio time series.\"\"\"\n",
    "    if y is None or sr is None:\n",
    "        return None\n",
    "    \n",
    "    try:\n",
    "        mfccs = np.mean(librosa.feature.mfcc(y=y, sr=sr, n_mfcc=13).T, axis=0)\n",
    "        chroma = np.mean(librosa.feature.chroma_stft(y=y, sr=sr).T, axis=0)\n",
    "        spectral_contrast = np.mean(librosa.feature.spectral_contrast(y=y, sr=sr).T, axis=0)\n",
    "        tempo = librosa.beat.tempo(y=y, sr=sr)[0]\n",
    "        mel_spec = np.mean(librosa.feature.melspectrogram(y=y, sr=sr).T, axis=0)\n",
    "        \n",
    "        return np.hstack([mfccs, chroma, spectral_contrast, tempo, mel_spec])\n",
    "    except Exception as e:\n",
    "        print(f\"Error extracting features: {e}\")\n",
    "        return None"
   ]
  },
  {
   "cell_type": "markdown",
   "metadata": {},
   "source": [
    "- Process the audio files"
   ]
  },
  {
   "cell_type": "code",
   "execution_count": 14,
   "metadata": {},
   "outputs": [],
   "source": [
    "def process_audio_files(data_path):\n",
    "    \"\"\"Iterates through all audio files in genre folders and extracts features.\"\"\"\n",
    "    data = []\n",
    "    genres = os.listdir(data_path)\n",
    "    \n",
    "    for genre in tqdm(genres, desc=\"Processing genres\"):\n",
    "        genre_path = os.path.join(data_path, genre)\n",
    "        if os.path.isdir(genre_path):\n",
    "            for file in os.listdir(genre_path):\n",
    "                if file.endswith(\".wav\"):\n",
    "                    file_path = os.path.join(genre_path, file)\n",
    "                    y, sr = load_audio(file_path)\n",
    "                    features = extract_features(y, sr)\n",
    "                    if features is not None:\n",
    "                        data.append([genre] + list(features))\n",
    "    return data"
   ]
  },
  {
   "cell_type": "markdown",
   "metadata": {},
   "source": [
    "- Save the extractes features"
   ]
  },
  {
   "cell_type": "code",
   "execution_count": 15,
   "metadata": {},
   "outputs": [],
   "source": [
    "def save_features_to_csv(data, output_csv):\n",
    "    \"\"\"Saves extracted features to a CSV file.\"\"\"\n",
    "    columns = [\"Genre\"] + [f\"MFCC_{i}\" for i in range(13)] + [f\"Chroma_{i}\" for i in range(12)] + \\\n",
    "              [f\"Spectral_Contrast_{i}\" for i in range(7)] + [\"Tempo\"] + [f\"Mel_{i}\" for i in range(128)]\n",
    "    df = pd.DataFrame(data, columns=columns)\n",
    "    df.to_csv(output_csv, index=False)\n",
    "    print(f\"Feature extraction complete! Data saved to {output_csv}\")"
   ]
  },
  {
   "cell_type": "code",
   "execution_count": 16,
   "metadata": {},
   "outputs": [
    {
     "name": "stderr",
     "output_type": "stream",
     "text": [
      "Processing genres:   0%|          | 0/10 [00:00<?, ?it/s]/var/folders/wv/jwbv3h4s56j81f_b9w5yvc2m0000gn/T/ipykernel_97545/3351383579.py:10: FutureWarning: librosa.beat.tempo\n",
      "\tThis function was moved to 'librosa.feature.rhythm.tempo' in librosa version 0.10.0.\n",
      "\tThis alias will be removed in librosa version 1.0.\n",
      "  tempo = librosa.beat.tempo(y=y, sr=sr)[0]\n",
      "Processing genres: 100%|██████████| 10/10 [03:13<00:00, 19.34s/it]"
     ]
    },
    {
     "name": "stdout",
     "output_type": "stream",
     "text": [
      "Feature extraction complete! Data saved to /Users/js/Desktop/Music Genre Classification/Data/music_features.csv\n"
     ]
    },
    {
     "name": "stderr",
     "output_type": "stream",
     "text": [
      "\n"
     ]
    }
   ],
   "source": [
    "if __name__ == \"__main__\":\n",
    "    data = process_audio_files(data_path)\n",
    "    save_features_to_csv(data, output_csv)"
   ]
  }
 ],
 "metadata": {
  "kernelspec": {
   "display_name": "Python 3",
   "language": "python",
   "name": "python3"
  },
  "language_info": {
   "codemirror_mode": {
    "name": "ipython",
    "version": 3
   },
   "file_extension": ".py",
   "mimetype": "text/x-python",
   "name": "python",
   "nbconvert_exporter": "python",
   "pygments_lexer": "ipython3",
   "version": "3.8.18"
  }
 },
 "nbformat": 4,
 "nbformat_minor": 2
}
